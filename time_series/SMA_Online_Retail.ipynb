{
 "cells": [
  {
   "cell_type": "markdown",
   "metadata": {},
   "source": [
    "# Predicting store sales using Simple Moving average"
   ]
  },
  {
   "cell_type": "code",
   "execution_count": 1,
   "metadata": {},
   "outputs": [],
   "source": [
    "import pandas as pd"
   ]
  },
  {
   "cell_type": "code",
   "execution_count": 34,
   "metadata": {},
   "outputs": [],
   "source": [
    "df = pd.read_excel('online_retail.xlsx')"
   ]
  },
  {
   "cell_type": "code",
   "execution_count": 35,
   "metadata": {},
   "outputs": [
    {
     "data": {
      "text/html": [
       "<div>\n",
       "<style scoped>\n",
       "    .dataframe tbody tr th:only-of-type {\n",
       "        vertical-align: middle;\n",
       "    }\n",
       "\n",
       "    .dataframe tbody tr th {\n",
       "        vertical-align: top;\n",
       "    }\n",
       "\n",
       "    .dataframe thead th {\n",
       "        text-align: right;\n",
       "    }\n",
       "</style>\n",
       "<table border=\"1\" class=\"dataframe\">\n",
       "  <thead>\n",
       "    <tr style=\"text-align: right;\">\n",
       "      <th></th>\n",
       "      <th>InvoiceNo</th>\n",
       "      <th>StockCode</th>\n",
       "      <th>Description</th>\n",
       "      <th>Quantity</th>\n",
       "      <th>InvoiceDate</th>\n",
       "      <th>UnitPrice</th>\n",
       "      <th>CustomerID</th>\n",
       "      <th>Country</th>\n",
       "    </tr>\n",
       "  </thead>\n",
       "  <tbody>\n",
       "    <tr>\n",
       "      <th>0</th>\n",
       "      <td>536365</td>\n",
       "      <td>85123A</td>\n",
       "      <td>WHITE HANGING HEART T-LIGHT HOLDER</td>\n",
       "      <td>6</td>\n",
       "      <td>2010-12-01 08:26:00</td>\n",
       "      <td>2.55</td>\n",
       "      <td>17850.0</td>\n",
       "      <td>United Kingdom</td>\n",
       "    </tr>\n",
       "    <tr>\n",
       "      <th>1</th>\n",
       "      <td>536365</td>\n",
       "      <td>71053</td>\n",
       "      <td>WHITE METAL LANTERN</td>\n",
       "      <td>6</td>\n",
       "      <td>2010-12-01 08:26:00</td>\n",
       "      <td>3.39</td>\n",
       "      <td>17850.0</td>\n",
       "      <td>United Kingdom</td>\n",
       "    </tr>\n",
       "    <tr>\n",
       "      <th>2</th>\n",
       "      <td>536365</td>\n",
       "      <td>84406B</td>\n",
       "      <td>CREAM CUPID HEARTS COAT HANGER</td>\n",
       "      <td>8</td>\n",
       "      <td>2010-12-01 08:26:00</td>\n",
       "      <td>2.75</td>\n",
       "      <td>17850.0</td>\n",
       "      <td>United Kingdom</td>\n",
       "    </tr>\n",
       "    <tr>\n",
       "      <th>3</th>\n",
       "      <td>536365</td>\n",
       "      <td>84029G</td>\n",
       "      <td>KNITTED UNION FLAG HOT WATER BOTTLE</td>\n",
       "      <td>6</td>\n",
       "      <td>2010-12-01 08:26:00</td>\n",
       "      <td>3.39</td>\n",
       "      <td>17850.0</td>\n",
       "      <td>United Kingdom</td>\n",
       "    </tr>\n",
       "    <tr>\n",
       "      <th>4</th>\n",
       "      <td>536365</td>\n",
       "      <td>84029E</td>\n",
       "      <td>RED WOOLLY HOTTIE WHITE HEART.</td>\n",
       "      <td>6</td>\n",
       "      <td>2010-12-01 08:26:00</td>\n",
       "      <td>3.39</td>\n",
       "      <td>17850.0</td>\n",
       "      <td>United Kingdom</td>\n",
       "    </tr>\n",
       "  </tbody>\n",
       "</table>\n",
       "</div>"
      ],
      "text/plain": [
       "  InvoiceNo StockCode                          Description  Quantity  \\\n",
       "0    536365    85123A   WHITE HANGING HEART T-LIGHT HOLDER         6   \n",
       "1    536365     71053                  WHITE METAL LANTERN         6   \n",
       "2    536365    84406B       CREAM CUPID HEARTS COAT HANGER         8   \n",
       "3    536365    84029G  KNITTED UNION FLAG HOT WATER BOTTLE         6   \n",
       "4    536365    84029E       RED WOOLLY HOTTIE WHITE HEART.         6   \n",
       "\n",
       "          InvoiceDate  UnitPrice  CustomerID         Country  \n",
       "0 2010-12-01 08:26:00       2.55     17850.0  United Kingdom  \n",
       "1 2010-12-01 08:26:00       3.39     17850.0  United Kingdom  \n",
       "2 2010-12-01 08:26:00       2.75     17850.0  United Kingdom  \n",
       "3 2010-12-01 08:26:00       3.39     17850.0  United Kingdom  \n",
       "4 2010-12-01 08:26:00       3.39     17850.0  United Kingdom  "
      ]
     },
     "execution_count": 35,
     "metadata": {},
     "output_type": "execute_result"
    }
   ],
   "source": [
    "df.head()"
   ]
  },
  {
   "cell_type": "markdown",
   "metadata": {},
   "source": [
    "## Starting EDA to have only the values we need"
   ]
  },
  {
   "cell_type": "code",
   "execution_count": 36,
   "metadata": {},
   "outputs": [
    {
     "data": {
      "text/html": [
       "<div>\n",
       "<style scoped>\n",
       "    .dataframe tbody tr th:only-of-type {\n",
       "        vertical-align: middle;\n",
       "    }\n",
       "\n",
       "    .dataframe tbody tr th {\n",
       "        vertical-align: top;\n",
       "    }\n",
       "\n",
       "    .dataframe thead th {\n",
       "        text-align: right;\n",
       "    }\n",
       "</style>\n",
       "<table border=\"1\" class=\"dataframe\">\n",
       "  <thead>\n",
       "    <tr style=\"text-align: right;\">\n",
       "      <th></th>\n",
       "      <th>InvoiceNo</th>\n",
       "      <th>StockCode</th>\n",
       "      <th>Description</th>\n",
       "      <th>Quantity</th>\n",
       "      <th>InvoiceDate</th>\n",
       "      <th>UnitPrice</th>\n",
       "      <th>CustomerID</th>\n",
       "      <th>Country</th>\n",
       "      <th>price</th>\n",
       "    </tr>\n",
       "  </thead>\n",
       "  <tbody>\n",
       "    <tr>\n",
       "      <th>0</th>\n",
       "      <td>536365</td>\n",
       "      <td>85123A</td>\n",
       "      <td>WHITE HANGING HEART T-LIGHT HOLDER</td>\n",
       "      <td>6</td>\n",
       "      <td>2010-12-01 08:26:00</td>\n",
       "      <td>2.55</td>\n",
       "      <td>17850.0</td>\n",
       "      <td>United Kingdom</td>\n",
       "      <td>15.30</td>\n",
       "    </tr>\n",
       "    <tr>\n",
       "      <th>1</th>\n",
       "      <td>536365</td>\n",
       "      <td>71053</td>\n",
       "      <td>WHITE METAL LANTERN</td>\n",
       "      <td>6</td>\n",
       "      <td>2010-12-01 08:26:00</td>\n",
       "      <td>3.39</td>\n",
       "      <td>17850.0</td>\n",
       "      <td>United Kingdom</td>\n",
       "      <td>20.34</td>\n",
       "    </tr>\n",
       "    <tr>\n",
       "      <th>2</th>\n",
       "      <td>536365</td>\n",
       "      <td>84406B</td>\n",
       "      <td>CREAM CUPID HEARTS COAT HANGER</td>\n",
       "      <td>8</td>\n",
       "      <td>2010-12-01 08:26:00</td>\n",
       "      <td>2.75</td>\n",
       "      <td>17850.0</td>\n",
       "      <td>United Kingdom</td>\n",
       "      <td>22.00</td>\n",
       "    </tr>\n",
       "    <tr>\n",
       "      <th>3</th>\n",
       "      <td>536365</td>\n",
       "      <td>84029G</td>\n",
       "      <td>KNITTED UNION FLAG HOT WATER BOTTLE</td>\n",
       "      <td>6</td>\n",
       "      <td>2010-12-01 08:26:00</td>\n",
       "      <td>3.39</td>\n",
       "      <td>17850.0</td>\n",
       "      <td>United Kingdom</td>\n",
       "      <td>20.34</td>\n",
       "    </tr>\n",
       "    <tr>\n",
       "      <th>4</th>\n",
       "      <td>536365</td>\n",
       "      <td>84029E</td>\n",
       "      <td>RED WOOLLY HOTTIE WHITE HEART.</td>\n",
       "      <td>6</td>\n",
       "      <td>2010-12-01 08:26:00</td>\n",
       "      <td>3.39</td>\n",
       "      <td>17850.0</td>\n",
       "      <td>United Kingdom</td>\n",
       "      <td>20.34</td>\n",
       "    </tr>\n",
       "  </tbody>\n",
       "</table>\n",
       "</div>"
      ],
      "text/plain": [
       "  InvoiceNo StockCode                          Description  Quantity  \\\n",
       "0    536365    85123A   WHITE HANGING HEART T-LIGHT HOLDER         6   \n",
       "1    536365     71053                  WHITE METAL LANTERN         6   \n",
       "2    536365    84406B       CREAM CUPID HEARTS COAT HANGER         8   \n",
       "3    536365    84029G  KNITTED UNION FLAG HOT WATER BOTTLE         6   \n",
       "4    536365    84029E       RED WOOLLY HOTTIE WHITE HEART.         6   \n",
       "\n",
       "          InvoiceDate  UnitPrice  CustomerID         Country  price  \n",
       "0 2010-12-01 08:26:00       2.55     17850.0  United Kingdom  15.30  \n",
       "1 2010-12-01 08:26:00       3.39     17850.0  United Kingdom  20.34  \n",
       "2 2010-12-01 08:26:00       2.75     17850.0  United Kingdom  22.00  \n",
       "3 2010-12-01 08:26:00       3.39     17850.0  United Kingdom  20.34  \n",
       "4 2010-12-01 08:26:00       3.39     17850.0  United Kingdom  20.34  "
      ]
     },
     "execution_count": 36,
     "metadata": {},
     "output_type": "execute_result"
    }
   ],
   "source": [
    "## First calculating the amount for the item \n",
    "df['price'] = (df['Quantity'] * df['UnitPrice'])\n",
    "df.head()"
   ]
  },
  {
   "cell_type": "code",
   "execution_count": 37,
   "metadata": {},
   "outputs": [],
   "source": [
    "import datetime as datetime"
   ]
  },
  {
   "cell_type": "code",
   "execution_count": 38,
   "metadata": {},
   "outputs": [],
   "source": [
    "df = df.rename(columns={'InvoiceDate':'Date'})"
   ]
  },
  {
   "cell_type": "code",
   "execution_count": 39,
   "metadata": {},
   "outputs": [
    {
     "data": {
      "text/html": [
       "<div>\n",
       "<style scoped>\n",
       "    .dataframe tbody tr th:only-of-type {\n",
       "        vertical-align: middle;\n",
       "    }\n",
       "\n",
       "    .dataframe tbody tr th {\n",
       "        vertical-align: top;\n",
       "    }\n",
       "\n",
       "    .dataframe thead th {\n",
       "        text-align: right;\n",
       "    }\n",
       "</style>\n",
       "<table border=\"1\" class=\"dataframe\">\n",
       "  <thead>\n",
       "    <tr style=\"text-align: right;\">\n",
       "      <th></th>\n",
       "      <th>Date</th>\n",
       "      <th>price</th>\n",
       "    </tr>\n",
       "  </thead>\n",
       "  <tbody>\n",
       "    <tr>\n",
       "      <th>0</th>\n",
       "      <td>2010-12-01 08:26:00</td>\n",
       "      <td>15.30</td>\n",
       "    </tr>\n",
       "    <tr>\n",
       "      <th>1</th>\n",
       "      <td>2010-12-01 08:26:00</td>\n",
       "      <td>20.34</td>\n",
       "    </tr>\n",
       "    <tr>\n",
       "      <th>2</th>\n",
       "      <td>2010-12-01 08:26:00</td>\n",
       "      <td>22.00</td>\n",
       "    </tr>\n",
       "    <tr>\n",
       "      <th>3</th>\n",
       "      <td>2010-12-01 08:26:00</td>\n",
       "      <td>20.34</td>\n",
       "    </tr>\n",
       "    <tr>\n",
       "      <th>4</th>\n",
       "      <td>2010-12-01 08:26:00</td>\n",
       "      <td>20.34</td>\n",
       "    </tr>\n",
       "  </tbody>\n",
       "</table>\n",
       "</div>"
      ],
      "text/plain": [
       "                 Date  price\n",
       "0 2010-12-01 08:26:00  15.30\n",
       "1 2010-12-01 08:26:00  20.34\n",
       "2 2010-12-01 08:26:00  22.00\n",
       "3 2010-12-01 08:26:00  20.34\n",
       "4 2010-12-01 08:26:00  20.34"
      ]
     },
     "execution_count": 39,
     "metadata": {},
     "output_type": "execute_result"
    }
   ],
   "source": [
    "#taking only columns that we need\n",
    "df = df[['Date','price']]\n",
    "df.head()"
   ]
  },
  {
   "cell_type": "markdown",
   "metadata": {},
   "source": [
    "Lets look at whats the range of whole data and see if anything is missing"
   ]
  },
  {
   "cell_type": "code",
   "execution_count": 40,
   "metadata": {},
   "outputs": [
    {
     "name": "stdout",
     "output_type": "stream",
     "text": [
      "<class 'pandas.core.frame.DataFrame'>\n",
      "RangeIndex: 541909 entries, 0 to 541908\n",
      "Data columns (total 2 columns):\n",
      " #   Column  Non-Null Count   Dtype         \n",
      "---  ------  --------------   -----         \n",
      " 0   Date    541909 non-null  datetime64[ns]\n",
      " 1   price   541909 non-null  float64       \n",
      "dtypes: datetime64[ns](1), float64(1)\n",
      "memory usage: 8.3 MB\n"
     ]
    }
   ],
   "source": [
    "df.info()"
   ]
  },
  {
   "cell_type": "markdown",
   "metadata": {},
   "source": [
    "all the values are non null.\n",
    "lets check from which date to last date we have the data "
   ]
  },
  {
   "cell_type": "code",
   "execution_count": 41,
   "metadata": {},
   "outputs": [
    {
     "data": {
      "text/plain": [
       "(Timestamp('2010-12-01 08:26:00'), Timestamp('2011-12-09 12:50:00'))"
      ]
     },
     "execution_count": 41,
     "metadata": {},
     "output_type": "execute_result"
    }
   ],
   "source": [
    "df.Date.min(),df.Date.max()"
   ]
  },
  {
   "cell_type": "markdown",
   "metadata": {},
   "source": [
    "we have the data from dec 2010 to nov 2011 that is complete and incomplete data for dec 2011.\n",
    "Lets train the model from dec 2010 to oct 2011 and check for nov 2011 then we will do testing with nov 2011 and final validation on dec 2011. \n",
    "\n",
    "Final Summary - \n",
    "1. Training -> dec 2010 to nov 2011\n",
    "2. Testing -> nov 2011\n",
    "3. Validation -> dec 2011"
   ]
  },
  {
   "cell_type": "code",
   "execution_count": 42,
   "metadata": {},
   "outputs": [
    {
     "data": {
      "text/html": [
       "<div>\n",
       "<style scoped>\n",
       "    .dataframe tbody tr th:only-of-type {\n",
       "        vertical-align: middle;\n",
       "    }\n",
       "\n",
       "    .dataframe tbody tr th {\n",
       "        vertical-align: top;\n",
       "    }\n",
       "\n",
       "    .dataframe thead th {\n",
       "        text-align: right;\n",
       "    }\n",
       "</style>\n",
       "<table border=\"1\" class=\"dataframe\">\n",
       "  <thead>\n",
       "    <tr style=\"text-align: right;\">\n",
       "      <th></th>\n",
       "      <th>Date</th>\n",
       "      <th>price</th>\n",
       "    </tr>\n",
       "  </thead>\n",
       "  <tbody>\n",
       "    <tr>\n",
       "      <th>0</th>\n",
       "      <td>2010-12-01</td>\n",
       "      <td>15.30</td>\n",
       "    </tr>\n",
       "    <tr>\n",
       "      <th>1</th>\n",
       "      <td>2010-12-01</td>\n",
       "      <td>20.34</td>\n",
       "    </tr>\n",
       "    <tr>\n",
       "      <th>2</th>\n",
       "      <td>2010-12-01</td>\n",
       "      <td>22.00</td>\n",
       "    </tr>\n",
       "    <tr>\n",
       "      <th>3</th>\n",
       "      <td>2010-12-01</td>\n",
       "      <td>20.34</td>\n",
       "    </tr>\n",
       "    <tr>\n",
       "      <th>4</th>\n",
       "      <td>2010-12-01</td>\n",
       "      <td>20.34</td>\n",
       "    </tr>\n",
       "    <tr>\n",
       "      <th>...</th>\n",
       "      <td>...</td>\n",
       "      <td>...</td>\n",
       "    </tr>\n",
       "    <tr>\n",
       "      <th>541904</th>\n",
       "      <td>2011-12-09</td>\n",
       "      <td>10.20</td>\n",
       "    </tr>\n",
       "    <tr>\n",
       "      <th>541905</th>\n",
       "      <td>2011-12-09</td>\n",
       "      <td>12.60</td>\n",
       "    </tr>\n",
       "    <tr>\n",
       "      <th>541906</th>\n",
       "      <td>2011-12-09</td>\n",
       "      <td>16.60</td>\n",
       "    </tr>\n",
       "    <tr>\n",
       "      <th>541907</th>\n",
       "      <td>2011-12-09</td>\n",
       "      <td>16.60</td>\n",
       "    </tr>\n",
       "    <tr>\n",
       "      <th>541908</th>\n",
       "      <td>2011-12-09</td>\n",
       "      <td>14.85</td>\n",
       "    </tr>\n",
       "  </tbody>\n",
       "</table>\n",
       "<p>541909 rows × 2 columns</p>\n",
       "</div>"
      ],
      "text/plain": [
       "             Date  price\n",
       "0      2010-12-01  15.30\n",
       "1      2010-12-01  20.34\n",
       "2      2010-12-01  22.00\n",
       "3      2010-12-01  20.34\n",
       "4      2010-12-01  20.34\n",
       "...           ...    ...\n",
       "541904 2011-12-09  10.20\n",
       "541905 2011-12-09  12.60\n",
       "541906 2011-12-09  16.60\n",
       "541907 2011-12-09  16.60\n",
       "541908 2011-12-09  14.85\n",
       "\n",
       "[541909 rows x 2 columns]"
      ]
     },
     "execution_count": 42,
     "metadata": {},
     "output_type": "execute_result"
    }
   ],
   "source": [
    "df.Date = pd.to_datetime(df['Date']).dt.normalize()\n",
    "df"
   ]
  },
  {
   "cell_type": "code",
   "execution_count": 43,
   "metadata": {},
   "outputs": [],
   "source": [
    "df_daily_sum = df.groupby('Date')['price'].sum().reset_index()"
   ]
  },
  {
   "cell_type": "code",
   "execution_count": 46,
   "metadata": {},
   "outputs": [],
   "source": [
    "df_daily_sum = df_daily_sum.set_index('Date')"
   ]
  },
  {
   "cell_type": "code",
   "execution_count": 47,
   "metadata": {},
   "outputs": [
    {
     "data": {
      "text/plain": [
       "<Axes: xlabel='Date'>"
      ]
     },
     "execution_count": 47,
     "metadata": {},
     "output_type": "execute_result"
    },
    {
     "data": {
      "image/png": "[encoded data removed]",
      "text/plain": [
       "<Figure size 1200x500 with 1 Axes>"
      ]
     },
     "metadata": {},
     "output_type": "display_data"
    }
   ],
   "source": [
    "df_daily_sum.plot(figsize=(12,5))"
   ]
  },
  {
   "cell_type": "code",
   "execution_count": 53,
   "metadata": {},
   "outputs": [
    {
     "data": {
      "text/html": [
       "<div>\n",
       "<style scoped>\n",
       "    .dataframe tbody tr th:only-of-type {\n",
       "        vertical-align: middle;\n",
       "    }\n",
       "\n",
       "    .dataframe tbody tr th {\n",
       "        vertical-align: top;\n",
       "    }\n",
       "\n",
       "    .dataframe thead th {\n",
       "        text-align: right;\n",
       "    }\n",
       "</style>\n",
       "<table border=\"1\" class=\"dataframe\">\n",
       "  <thead>\n",
       "    <tr style=\"text-align: right;\">\n",
       "      <th></th>\n",
       "      <th>price</th>\n",
       "    </tr>\n",
       "    <tr>\n",
       "      <th>Date</th>\n",
       "      <th></th>\n",
       "    </tr>\n",
       "  </thead>\n",
       "  <tbody>\n",
       "    <tr>\n",
       "      <th>2010-12-01</th>\n",
       "      <td>58635.56</td>\n",
       "    </tr>\n",
       "    <tr>\n",
       "      <th>2010-12-02</th>\n",
       "      <td>46207.28</td>\n",
       "    </tr>\n",
       "    <tr>\n",
       "      <th>2010-12-03</th>\n",
       "      <td>45620.46</td>\n",
       "    </tr>\n",
       "    <tr>\n",
       "      <th>2010-12-05</th>\n",
       "      <td>31383.95</td>\n",
       "    </tr>\n",
       "    <tr>\n",
       "      <th>2010-12-06</th>\n",
       "      <td>53860.18</td>\n",
       "    </tr>\n",
       "    <tr>\n",
       "      <th>...</th>\n",
       "      <td>...</td>\n",
       "    </tr>\n",
       "    <tr>\n",
       "      <th>2011-12-05</th>\n",
       "      <td>57751.32</td>\n",
       "    </tr>\n",
       "    <tr>\n",
       "      <th>2011-12-06</th>\n",
       "      <td>54228.37</td>\n",
       "    </tr>\n",
       "    <tr>\n",
       "      <th>2011-12-07</th>\n",
       "      <td>75076.22</td>\n",
       "    </tr>\n",
       "    <tr>\n",
       "      <th>2011-12-08</th>\n",
       "      <td>81417.78</td>\n",
       "    </tr>\n",
       "    <tr>\n",
       "      <th>2011-12-09</th>\n",
       "      <td>32131.53</td>\n",
       "    </tr>\n",
       "  </tbody>\n",
       "</table>\n",
       "<p>305 rows × 1 columns</p>\n",
       "</div>"
      ],
      "text/plain": [
       "               price\n",
       "Date                \n",
       "2010-12-01  58635.56\n",
       "2010-12-02  46207.28\n",
       "2010-12-03  45620.46\n",
       "2010-12-05  31383.95\n",
       "2010-12-06  53860.18\n",
       "...              ...\n",
       "2011-12-05  57751.32\n",
       "2011-12-06  54228.37\n",
       "2011-12-07  75076.22\n",
       "2011-12-08  81417.78\n",
       "2011-12-09  32131.53\n",
       "\n",
       "[305 rows x 1 columns]"
      ]
     },
     "execution_count": 53,
     "metadata": {},
     "output_type": "execute_result"
    }
   ],
   "source": [
    "df_daily_sum"
   ]
  },
  {
   "cell_type": "code",
   "execution_count": 54,
   "metadata": {},
   "outputs": [],
   "source": [
    "df_test = df_daily_sum.loc['2010-12-01':'2011-11-30']"
   ]
  },
  {
   "cell_type": "code",
   "execution_count": 55,
   "metadata": {},
   "outputs": [
    {
     "data": {
      "text/html": [
       "<div>\n",
       "<style scoped>\n",
       "    .dataframe tbody tr th:only-of-type {\n",
       "        vertical-align: middle;\n",
       "    }\n",
       "\n",
       "    .dataframe tbody tr th {\n",
       "        vertical-align: top;\n",
       "    }\n",
       "\n",
       "    .dataframe thead th {\n",
       "        text-align: right;\n",
       "    }\n",
       "</style>\n",
       "<table border=\"1\" class=\"dataframe\">\n",
       "  <thead>\n",
       "    <tr style=\"text-align: right;\">\n",
       "      <th></th>\n",
       "      <th>price</th>\n",
       "    </tr>\n",
       "    <tr>\n",
       "      <th>Date</th>\n",
       "      <th></th>\n",
       "    </tr>\n",
       "  </thead>\n",
       "  <tbody>\n",
       "    <tr>\n",
       "      <th>2010-12-01</th>\n",
       "      <td>58635.56</td>\n",
       "    </tr>\n",
       "    <tr>\n",
       "      <th>2010-12-02</th>\n",
       "      <td>46207.28</td>\n",
       "    </tr>\n",
       "    <tr>\n",
       "      <th>2010-12-03</th>\n",
       "      <td>45620.46</td>\n",
       "    </tr>\n",
       "    <tr>\n",
       "      <th>2010-12-05</th>\n",
       "      <td>31383.95</td>\n",
       "    </tr>\n",
       "    <tr>\n",
       "      <th>2010-12-06</th>\n",
       "      <td>53860.18</td>\n",
       "    </tr>\n",
       "    <tr>\n",
       "      <th>...</th>\n",
       "      <td>...</td>\n",
       "    </tr>\n",
       "    <tr>\n",
       "      <th>2011-11-25</th>\n",
       "      <td>50442.72</td>\n",
       "    </tr>\n",
       "    <tr>\n",
       "      <th>2011-11-27</th>\n",
       "      <td>20571.50</td>\n",
       "    </tr>\n",
       "    <tr>\n",
       "      <th>2011-11-28</th>\n",
       "      <td>55442.02</td>\n",
       "    </tr>\n",
       "    <tr>\n",
       "      <th>2011-11-29</th>\n",
       "      <td>72219.20</td>\n",
       "    </tr>\n",
       "    <tr>\n",
       "      <th>2011-11-30</th>\n",
       "      <td>59150.98</td>\n",
       "    </tr>\n",
       "  </tbody>\n",
       "</table>\n",
       "<p>297 rows × 1 columns</p>\n",
       "</div>"
      ],
      "text/plain": [
       "               price\n",
       "Date                \n",
       "2010-12-01  58635.56\n",
       "2010-12-02  46207.28\n",
       "2010-12-03  45620.46\n",
       "2010-12-05  31383.95\n",
       "2010-12-06  53860.18\n",
       "...              ...\n",
       "2011-11-25  50442.72\n",
       "2011-11-27  20571.50\n",
       "2011-11-28  55442.02\n",
       "2011-11-29  72219.20\n",
       "2011-11-30  59150.98\n",
       "\n",
       "[297 rows x 1 columns]"
      ]
     },
     "execution_count": 55,
     "metadata": {},
     "output_type": "execute_result"
    }
   ],
   "source": [
    "df_test"
   ]
  },
  {
   "cell_type": "markdown",
   "metadata": {},
   "source": [
    "lets do the average for 30 days and try to predict it.\n",
    "Simple moving average means taking the average of last 'n' days and giving it as a prediction."
   ]
  },
  {
   "cell_type": "code",
   "execution_count": 56,
   "metadata": {},
   "outputs": [
    {
     "name": "stderr",
     "output_type": "stream",
     "text": [
      "C:\\Users\\Asus\\AppData\\Local\\Temp\\ipykernel_21092\\1934361375.py:1: SettingWithCopyWarning: \n",
      "A value is trying to be set on a copy of a slice from a DataFrame.\n",
      "Try using .loc[row_indexer,col_indexer] = value instead\n",
      "\n",
      "See the caveats in the documentation: https://pandas.pydata.org/pandas-docs/stable/user_guide/indexing.html#returning-a-view-versus-a-copy\n",
      "  df_test['predicted_price'] = df_test['price'].rolling(30).mean().shift(1)\n"
     ]
    }
   ],
   "source": [
    "df_test['predicted_price'] = df_test['price'].rolling(30).mean().shift(1)"
   ]
  },
  {
   "cell_type": "code",
   "execution_count": 57,
   "metadata": {},
   "outputs": [
    {
     "data": {
      "text/html": [
       "<div>\n",
       "<style scoped>\n",
       "    .dataframe tbody tr th:only-of-type {\n",
       "        vertical-align: middle;\n",
       "    }\n",
       "\n",
       "    .dataframe tbody tr th {\n",
       "        vertical-align: top;\n",
       "    }\n",
       "\n",
       "    .dataframe thead th {\n",
       "        text-align: right;\n",
       "    }\n",
       "</style>\n",
       "<table border=\"1\" class=\"dataframe\">\n",
       "  <thead>\n",
       "    <tr style=\"text-align: right;\">\n",
       "      <th></th>\n",
       "      <th>price</th>\n",
       "      <th>predicted_price</th>\n",
       "    </tr>\n",
       "    <tr>\n",
       "      <th>Date</th>\n",
       "      <th></th>\n",
       "      <th></th>\n",
       "    </tr>\n",
       "  </thead>\n",
       "  <tbody>\n",
       "    <tr>\n",
       "      <th>2010-12-01</th>\n",
       "      <td>58635.56</td>\n",
       "      <td>NaN</td>\n",
       "    </tr>\n",
       "    <tr>\n",
       "      <th>2010-12-02</th>\n",
       "      <td>46207.28</td>\n",
       "      <td>NaN</td>\n",
       "    </tr>\n",
       "    <tr>\n",
       "      <th>2010-12-03</th>\n",
       "      <td>45620.46</td>\n",
       "      <td>NaN</td>\n",
       "    </tr>\n",
       "    <tr>\n",
       "      <th>2010-12-05</th>\n",
       "      <td>31383.95</td>\n",
       "      <td>NaN</td>\n",
       "    </tr>\n",
       "    <tr>\n",
       "      <th>2010-12-06</th>\n",
       "      <td>53860.18</td>\n",
       "      <td>NaN</td>\n",
       "    </tr>\n",
       "    <tr>\n",
       "      <th>...</th>\n",
       "      <td>...</td>\n",
       "      <td>...</td>\n",
       "    </tr>\n",
       "    <tr>\n",
       "      <th>2011-11-25</th>\n",
       "      <td>50442.72</td>\n",
       "      <td>52210.371333</td>\n",
       "    </tr>\n",
       "    <tr>\n",
       "      <th>2011-11-27</th>\n",
       "      <td>20571.50</td>\n",
       "      <td>51793.086667</td>\n",
       "    </tr>\n",
       "    <tr>\n",
       "      <th>2011-11-28</th>\n",
       "      <td>55442.02</td>\n",
       "      <td>52068.723000</td>\n",
       "    </tr>\n",
       "    <tr>\n",
       "      <th>2011-11-29</th>\n",
       "      <td>72219.20</td>\n",
       "      <td>52636.533000</td>\n",
       "    </tr>\n",
       "    <tr>\n",
       "      <th>2011-11-30</th>\n",
       "      <td>59150.98</td>\n",
       "      <td>53683.590000</td>\n",
       "    </tr>\n",
       "  </tbody>\n",
       "</table>\n",
       "<p>297 rows × 2 columns</p>\n",
       "</div>"
      ],
      "text/plain": [
       "               price  predicted_price\n",
       "Date                                 \n",
       "2010-12-01  58635.56              NaN\n",
       "2010-12-02  46207.28              NaN\n",
       "2010-12-03  45620.46              NaN\n",
       "2010-12-05  31383.95              NaN\n",
       "2010-12-06  53860.18              NaN\n",
       "...              ...              ...\n",
       "2011-11-25  50442.72     52210.371333\n",
       "2011-11-27  20571.50     51793.086667\n",
       "2011-11-28  55442.02     52068.723000\n",
       "2011-11-29  72219.20     52636.533000\n",
       "2011-11-30  59150.98     53683.590000\n",
       "\n",
       "[297 rows x 2 columns]"
      ]
     },
     "execution_count": 57,
     "metadata": {},
     "output_type": "execute_result"
    }
   ],
   "source": [
    "df_test"
   ]
  },
  {
   "cell_type": "markdown",
   "metadata": {},
   "source": [
    "now that we have values we can see the difference by plotting graphs"
   ]
  },
  {
   "cell_type": "code",
   "execution_count": 58,
   "metadata": {},
   "outputs": [
    {
     "data": {
      "text/plain": [
       "<Axes: xlabel='Date'>"
      ]
     },
     "execution_count": 58,
     "metadata": {},
     "output_type": "execute_result"
    },
    {
     "data": {
      "image/png": "[encoded data removed]",
      "text/plain": [
       "<Figure size 640x480 with 1 Axes>"
      ]
     },
     "metadata": {},
     "output_type": "display_data"
    }
   ],
   "source": [
    "df_test[['price','predicted_price']].plot()"
   ]
  },
  {
   "cell_type": "markdown",
   "metadata": {},
   "source": [
    "we can see that 3 month moving average is working as an average and giving a predictable value that is near to the real value. lets try 60 days."
   ]
  },
  {
   "cell_type": "code",
   "execution_count": 59,
   "metadata": {},
   "outputs": [
    {
     "name": "stderr",
     "output_type": "stream",
     "text": [
      "C:\\Users\\Asus\\AppData\\Local\\Temp\\ipykernel_21092\\642485712.py:1: SettingWithCopyWarning: \n",
      "A value is trying to be set on a copy of a slice from a DataFrame.\n",
      "Try using .loc[row_indexer,col_indexer] = value instead\n",
      "\n",
      "See the caveats in the documentation: https://pandas.pydata.org/pandas-docs/stable/user_guide/indexing.html#returning-a-view-versus-a-copy\n",
      "  df_test['predicted_price_60days'] = df_test['price'].rolling(60).mean().shift(1)\n"
     ]
    }
   ],
   "source": [
    "df_test['predicted_price_60days'] = df_test['price'].rolling(60).mean().shift(1)"
   ]
  },
  {
   "cell_type": "code",
   "execution_count": 60,
   "metadata": {},
   "outputs": [
    {
     "data": {
      "text/plain": [
       "<Axes: xlabel='Date'>"
      ]
     },
     "execution_count": 60,
     "metadata": {},
     "output_type": "execute_result"
    },
    {
     "data": {
      "image/png": "[encoded data removed]",
      "text/plain": [
       "<Figure size 640x480 with 1 Axes>"
      ]
     },
     "metadata": {},
     "output_type": "display_data"
    }
   ],
   "source": [
    "df_test[['predicted_price_60days','price']].plot()"
   ]
  },
  {
   "cell_type": "markdown",
   "metadata": {},
   "source": [
    "even with 60days its kind of giving average.\n",
    "Lets check and get the Error percentage in the last month of november."
   ]
  },
  {
   "cell_type": "code",
   "execution_count": 71,
   "metadata": {},
   "outputs": [],
   "source": [
    "df_error = df_test.loc['2011-11-01':'2011-11-30']"
   ]
  },
  {
   "cell_type": "code",
   "execution_count": 72,
   "metadata": {},
   "outputs": [
    {
     "name": "stderr",
     "output_type": "stream",
     "text": [
      "C:\\Users\\Asus\\AppData\\Local\\Temp\\ipykernel_21092\\3876868606.py:1: SettingWithCopyWarning: \n",
      "A value is trying to be set on a copy of a slice from a DataFrame.\n",
      "Try using .loc[row_indexer,col_indexer] = value instead\n",
      "\n",
      "See the caveats in the documentation: https://pandas.pydata.org/pandas-docs/stable/user_guide/indexing.html#returning-a-view-versus-a-copy\n",
      "  df_error['error_30'] = abs(((df_error['price']-df_error['predicted_price'])*100)/df_error['price'])\n"
     ]
    }
   ],
   "source": [
    "df_error['error_30'] = abs(((df_error['price']-df_error['predicted_price'])*100)/df_error['price'])"
   ]
  },
  {
   "cell_type": "code",
   "execution_count": 73,
   "metadata": {},
   "outputs": [
    {
     "name": "stderr",
     "output_type": "stream",
     "text": [
      "C:\\Users\\Asus\\AppData\\Local\\Temp\\ipykernel_21092\\469524116.py:1: SettingWithCopyWarning: \n",
      "A value is trying to be set on a copy of a slice from a DataFrame.\n",
      "Try using .loc[row_indexer,col_indexer] = value instead\n",
      "\n",
      "See the caveats in the documentation: https://pandas.pydata.org/pandas-docs/stable/user_guide/indexing.html#returning-a-view-versus-a-copy\n",
      "  df_error['error_60'] = abs(((df_error['price']-df_error['predicted_price_60days'])*100)/df_error['price'])\n"
     ]
    }
   ],
   "source": [
    "df_error['error_60'] = abs(((df_error['price']-df_error['predicted_price_60days'])*100)/df_error['price'])"
   ]
  },
  {
   "cell_type": "code",
   "execution_count": 74,
   "metadata": {},
   "outputs": [
    {
     "data": {
      "text/html": [
       "<div>\n",
       "<style scoped>\n",
       "    .dataframe tbody tr th:only-of-type {\n",
       "        vertical-align: middle;\n",
       "    }\n",
       "\n",
       "    .dataframe tbody tr th {\n",
       "        vertical-align: top;\n",
       "    }\n",
       "\n",
       "    .dataframe thead th {\n",
       "        text-align: right;\n",
       "    }\n",
       "</style>\n",
       "<table border=\"1\" class=\"dataframe\">\n",
       "  <thead>\n",
       "    <tr style=\"text-align: right;\">\n",
       "      <th></th>\n",
       "      <th>price</th>\n",
       "      <th>predicted_price</th>\n",
       "      <th>predicted_price_60days</th>\n",
       "      <th>error_30</th>\n",
       "      <th>error_60</th>\n",
       "    </tr>\n",
       "    <tr>\n",
       "      <th>Date</th>\n",
       "      <th></th>\n",
       "      <th></th>\n",
       "      <th></th>\n",
       "      <th></th>\n",
       "      <th></th>\n",
       "    </tr>\n",
       "  </thead>\n",
       "  <tbody>\n",
       "    <tr>\n",
       "      <th>2011-11-01</th>\n",
       "      <td>28741.55</td>\n",
       "      <td>41243.235000</td>\n",
       "      <td>38129.244867</td>\n",
       "      <td>43.496906</td>\n",
       "      <td>32.662452</td>\n",
       "    </tr>\n",
       "    <tr>\n",
       "      <th>2011-11-02</th>\n",
       "      <td>45239.06</td>\n",
       "      <td>41009.548000</td>\n",
       "      <td>38141.963867</td>\n",
       "      <td>9.349248</td>\n",
       "      <td>15.687983</td>\n",
       "    </tr>\n",
       "    <tr>\n",
       "      <th>2011-11-03</th>\n",
       "      <td>62816.55</td>\n",
       "      <td>41071.415333</td>\n",
       "      <td>38466.676533</td>\n",
       "      <td>34.616888</td>\n",
       "      <td>38.763468</td>\n",
       "    </tr>\n",
       "    <tr>\n",
       "      <th>2011-11-04</th>\n",
       "      <td>60081.76</td>\n",
       "      <td>41716.489333</td>\n",
       "      <td>38895.704033</td>\n",
       "      <td>30.567132</td>\n",
       "      <td>35.262043</td>\n",
       "    </tr>\n",
       "    <tr>\n",
       "      <th>2011-11-06</th>\n",
       "      <td>42912.40</td>\n",
       "      <td>42252.786333</td>\n",
       "      <td>39522.752033</td>\n",
       "      <td>1.537117</td>\n",
       "      <td>7.898994</td>\n",
       "    </tr>\n",
       "    <tr>\n",
       "      <th>2011-11-07</th>\n",
       "      <td>70001.08</td>\n",
       "      <td>43295.747000</td>\n",
       "      <td>39812.121533</td>\n",
       "      <td>38.149887</td>\n",
       "      <td>43.126418</td>\n",
       "    </tr>\n",
       "    <tr>\n",
       "      <th>2011-11-08</th>\n",
       "      <td>56647.66</td>\n",
       "      <td>43488.623667</td>\n",
       "      <td>40799.059867</td>\n",
       "      <td>23.229620</td>\n",
       "      <td>27.977502</td>\n",
       "    </tr>\n",
       "    <tr>\n",
       "      <th>2011-11-09</th>\n",
       "      <td>62599.43</td>\n",
       "      <td>43768.851000</td>\n",
       "      <td>41215.839200</td>\n",
       "      <td>30.081071</td>\n",
       "      <td>34.159402</td>\n",
       "    </tr>\n",
       "    <tr>\n",
       "      <th>2011-11-10</th>\n",
       "      <td>68956.24</td>\n",
       "      <td>43347.351000</td>\n",
       "      <td>41990.529700</td>\n",
       "      <td>37.137885</td>\n",
       "      <td>39.105540</td>\n",
       "    </tr>\n",
       "    <tr>\n",
       "      <th>2011-11-11</th>\n",
       "      <td>54835.51</td>\n",
       "      <td>43802.349667</td>\n",
       "      <td>42518.190367</td>\n",
       "      <td>20.120466</td>\n",
       "      <td>22.462305</td>\n",
       "    </tr>\n",
       "    <tr>\n",
       "      <th>2011-11-13</th>\n",
       "      <td>33520.22</td>\n",
       "      <td>44045.599333</td>\n",
       "      <td>42736.364367</td>\n",
       "      <td>31.400090</td>\n",
       "      <td>27.494284</td>\n",
       "    </tr>\n",
       "    <tr>\n",
       "      <th>2011-11-14</th>\n",
       "      <td>112141.11</td>\n",
       "      <td>44765.532000</td>\n",
       "      <td>43011.393200</td>\n",
       "      <td>60.081069</td>\n",
       "      <td>61.645294</td>\n",
       "    </tr>\n",
       "    <tr>\n",
       "      <th>2011-11-15</th>\n",
       "      <td>60594.23</td>\n",
       "      <td>47028.039333</td>\n",
       "      <td>44266.344367</td>\n",
       "      <td>22.388585</td>\n",
       "      <td>26.946271</td>\n",
       "    </tr>\n",
       "    <tr>\n",
       "      <th>2011-11-16</th>\n",
       "      <td>64408.70</td>\n",
       "      <td>47772.255333</td>\n",
       "      <td>44808.704533</td>\n",
       "      <td>25.829499</td>\n",
       "      <td>30.430665</td>\n",
       "    </tr>\n",
       "    <tr>\n",
       "      <th>2011-11-17</th>\n",
       "      <td>60329.72</td>\n",
       "      <td>48942.450333</td>\n",
       "      <td>45313.422033</td>\n",
       "      <td>18.875058</td>\n",
       "      <td>24.890382</td>\n",
       "    </tr>\n",
       "    <tr>\n",
       "      <th>2011-11-18</th>\n",
       "      <td>48031.80</td>\n",
       "      <td>49717.868667</td>\n",
       "      <td>45873.784033</td>\n",
       "      <td>3.510317</td>\n",
       "      <td>4.492890</td>\n",
       "    </tr>\n",
       "    <tr>\n",
       "      <th>2011-11-20</th>\n",
       "      <td>34902.01</td>\n",
       "      <td>50144.744000</td>\n",
       "      <td>46185.685867</td>\n",
       "      <td>43.672940</td>\n",
       "      <td>32.329588</td>\n",
       "    </tr>\n",
       "    <tr>\n",
       "      <th>2011-11-21</th>\n",
       "      <td>48302.50</td>\n",
       "      <td>50587.963000</td>\n",
       "      <td>46176.294867</td>\n",
       "      <td>4.731563</td>\n",
       "      <td>4.401853</td>\n",
       "    </tr>\n",
       "    <tr>\n",
       "      <th>2011-11-22</th>\n",
       "      <td>62307.32</td>\n",
       "      <td>50629.241667</td>\n",
       "      <td>46497.348033</td>\n",
       "      <td>18.742707</td>\n",
       "      <td>25.374181</td>\n",
       "    </tr>\n",
       "    <tr>\n",
       "      <th>2011-11-23</th>\n",
       "      <td>78480.70</td>\n",
       "      <td>51218.224333</td>\n",
       "      <td>46621.995867</td>\n",
       "      <td>34.737809</td>\n",
       "      <td>40.594317</td>\n",
       "    </tr>\n",
       "    <tr>\n",
       "      <th>2011-11-24</th>\n",
       "      <td>48080.28</td>\n",
       "      <td>52634.133333</td>\n",
       "      <td>47540.663200</td>\n",
       "      <td>9.471354</td>\n",
       "      <td>1.122325</td>\n",
       "    </tr>\n",
       "    <tr>\n",
       "      <th>2011-11-25</th>\n",
       "      <td>50442.72</td>\n",
       "      <td>52210.371333</td>\n",
       "      <td>47292.937700</td>\n",
       "      <td>3.504274</td>\n",
       "      <td>6.244275</td>\n",
       "    </tr>\n",
       "    <tr>\n",
       "      <th>2011-11-27</th>\n",
       "      <td>20571.50</td>\n",
       "      <td>51793.086667</td>\n",
       "      <td>47702.682033</td>\n",
       "      <td>151.771075</td>\n",
       "      <td>131.887232</td>\n",
       "    </tr>\n",
       "    <tr>\n",
       "      <th>2011-11-28</th>\n",
       "      <td>55442.02</td>\n",
       "      <td>52068.723000</td>\n",
       "      <td>47784.001533</td>\n",
       "      <td>6.084369</td>\n",
       "      <td>13.812661</td>\n",
       "    </tr>\n",
       "    <tr>\n",
       "      <th>2011-11-29</th>\n",
       "      <td>72219.20</td>\n",
       "      <td>52636.533000</td>\n",
       "      <td>47937.831700</td>\n",
       "      <td>27.115597</td>\n",
       "      <td>33.621763</td>\n",
       "    </tr>\n",
       "    <tr>\n",
       "      <th>2011-11-30</th>\n",
       "      <td>59150.98</td>\n",
       "      <td>53683.590000</td>\n",
       "      <td>47320.048200</td>\n",
       "      <td>9.243110</td>\n",
       "      <td>20.001244</td>\n",
       "    </tr>\n",
       "  </tbody>\n",
       "</table>\n",
       "</div>"
      ],
      "text/plain": [
       "                price  predicted_price  predicted_price_60days    error_30  \\\n",
       "Date                                                                         \n",
       "2011-11-01   28741.55     41243.235000            38129.244867   43.496906   \n",
       "2011-11-02   45239.06     41009.548000            38141.963867    9.349248   \n",
       "2011-11-03   62816.55     41071.415333            38466.676533   34.616888   \n",
       "2011-11-04   60081.76     41716.489333            38895.704033   30.567132   \n",
       "2011-11-06   42912.40     42252.786333            39522.752033    1.537117   \n",
       "2011-11-07   70001.08     43295.747000            39812.121533   38.149887   \n",
       "2011-11-08   56647.66     43488.623667            40799.059867   23.229620   \n",
       "2011-11-09   62599.43     43768.851000            41215.839200   30.081071   \n",
       "2011-11-10   68956.24     43347.351000            41990.529700   37.137885   \n",
       "2011-11-11   54835.51     43802.349667            42518.190367   20.120466   \n",
       "2011-11-13   33520.22     44045.599333            42736.364367   31.400090   \n",
       "2011-11-14  112141.11     44765.532000            43011.393200   60.081069   \n",
       "2011-11-15   60594.23     47028.039333            44266.344367   22.388585   \n",
       "2011-11-16   64408.70     47772.255333            44808.704533   25.829499   \n",
       "2011-11-17   60329.72     48942.450333            45313.422033   18.875058   \n",
       "2011-11-18   48031.80     49717.868667            45873.784033    3.510317   \n",
       "2011-11-20   34902.01     50144.744000            46185.685867   43.672940   \n",
       "2011-11-21   48302.50     50587.963000            46176.294867    4.731563   \n",
       "2011-11-22   62307.32     50629.241667            46497.348033   18.742707   \n",
       "2011-11-23   78480.70     51218.224333            46621.995867   34.737809   \n",
       "2011-11-24   48080.28     52634.133333            47540.663200    9.471354   \n",
       "2011-11-25   50442.72     52210.371333            47292.937700    3.504274   \n",
       "2011-11-27   20571.50     51793.086667            47702.682033  151.771075   \n",
       "2011-11-28   55442.02     52068.723000            47784.001533    6.084369   \n",
       "2011-11-29   72219.20     52636.533000            47937.831700   27.115597   \n",
       "2011-11-30   59150.98     53683.590000            47320.048200    9.243110   \n",
       "\n",
       "              error_60  \n",
       "Date                    \n",
       "2011-11-01   32.662452  \n",
       "2011-11-02   15.687983  \n",
       "2011-11-03   38.763468  \n",
       "2011-11-04   35.262043  \n",
       "2011-11-06    7.898994  \n",
       "2011-11-07   43.126418  \n",
       "2011-11-08   27.977502  \n",
       "2011-11-09   34.159402  \n",
       "2011-11-10   39.105540  \n",
       "2011-11-11   22.462305  \n",
       "2011-11-13   27.494284  \n",
       "2011-11-14   61.645294  \n",
       "2011-11-15   26.946271  \n",
       "2011-11-16   30.430665  \n",
       "2011-11-17   24.890382  \n",
       "2011-11-18    4.492890  \n",
       "2011-11-20   32.329588  \n",
       "2011-11-21    4.401853  \n",
       "2011-11-22   25.374181  \n",
       "2011-11-23   40.594317  \n",
       "2011-11-24    1.122325  \n",
       "2011-11-25    6.244275  \n",
       "2011-11-27  131.887232  \n",
       "2011-11-28   13.812661  \n",
       "2011-11-29   33.621763  \n",
       "2011-11-30   20.001244  "
      ]
     },
     "execution_count": 74,
     "metadata": {},
     "output_type": "execute_result"
    }
   ],
   "source": [
    "df_error"
   ]
  },
  {
   "cell_type": "markdown",
   "metadata": {},
   "source": [
    "we can see that for each day we have the error percentage. Sometimes maybe good, sometimes may be shit :)\n",
    "This is because the data is variating alot and depends alot on the previous day data.\n",
    "Basically it mean that more weighage should be on the just previous data rather than the equal that we are giving now."
   ]
  },
  {
   "cell_type": "code",
   "execution_count": null,
   "metadata": {},
   "outputs": [],
   "source": []
  }
 ],
 "metadata": {
  "kernelspec": {
   "display_name": "base",
   "language": "python",
   "name": "python3"
  },
  "language_info": {
   "codemirror_mode": {
    "name": "ipython",
    "version": 3
   },
   "file_extension": ".py",
   "mimetype": "text/x-python",
   "name": "python",
   "nbconvert_exporter": "python",
   "pygments_lexer": "ipython3",
   "version": "3.11.7"
  }
 },
 "nbformat": 4,
 "nbformat_minor": 2
}
